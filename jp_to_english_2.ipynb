{
  "nbformat": 4,
  "nbformat_minor": 0,
  "metadata": {
    "colab": {
      "provenance": [],
      "gpuType": "T4"
    },
    "kernelspec": {
      "name": "python3",
      "display_name": "Python 3"
    },
    "language_info": {
      "name": "python"
    },
    "accelerator": "GPU"
  },
  "cells": [
    {
      "cell_type": "code",
      "execution_count": null,
      "metadata": {
        "id": "T-xLbslu0z76"
      },
      "outputs": [],
      "source": [
        "import torchaudio\n",
        "from transformers import Wav2Vec2ForCTC, Wav2Vec2Tokenizer\n",
        "import torch"
      ]
    },
    {
      "cell_type": "code",
      "source": [
        "pip install SpeechRecognition"
      ],
      "metadata": {
        "colab": {
          "base_uri": "https://localhost:8080/"
        },
        "id": "TYAP5Vpi1nOJ",
        "outputId": "e245fe02-8934-4fcb-b31b-936becc956ed"
      },
      "execution_count": null,
      "outputs": [
        {
          "output_type": "stream",
          "name": "stdout",
          "text": [
            "Collecting SpeechRecognition\n",
            "  Downloading SpeechRecognition-3.10.3-py2.py3-none-any.whl (32.8 MB)\n",
            "\u001b[2K     \u001b[90m━━━━━━━━━━━━━━━━━━━━━━━━━━━━━━━━━━━━━━━━\u001b[0m \u001b[32m32.8/32.8 MB\u001b[0m \u001b[31m47.5 MB/s\u001b[0m eta \u001b[36m0:00:00\u001b[0m\n",
            "\u001b[?25hRequirement already satisfied: requests>=2.26.0 in /usr/local/lib/python3.10/dist-packages (from SpeechRecognition) (2.31.0)\n",
            "Requirement already satisfied: typing-extensions in /usr/local/lib/python3.10/dist-packages (from SpeechRecognition) (4.11.0)\n",
            "Requirement already satisfied: charset-normalizer<4,>=2 in /usr/local/lib/python3.10/dist-packages (from requests>=2.26.0->SpeechRecognition) (3.3.2)\n",
            "Requirement already satisfied: idna<4,>=2.5 in /usr/local/lib/python3.10/dist-packages (from requests>=2.26.0->SpeechRecognition) (3.6)\n",
            "Requirement already satisfied: urllib3<3,>=1.21.1 in /usr/local/lib/python3.10/dist-packages (from requests>=2.26.0->SpeechRecognition) (2.0.7)\n",
            "Requirement already satisfied: certifi>=2017.4.17 in /usr/local/lib/python3.10/dist-packages (from requests>=2.26.0->SpeechRecognition) (2024.2.2)\n",
            "Installing collected packages: SpeechRecognition\n",
            "Successfully installed SpeechRecognition-3.10.3\n"
          ]
        }
      ]
    },
    {
      "cell_type": "code",
      "source": [
        "import speech_recognition as sr\n",
        "\n",
        "# Define the recognizer\n",
        "recognizer = sr.Recognizer()\n",
        "\n",
        "# Load the audio file\n",
        "audio_file = \"/content/jp.wav\"  # Replace with the path to your audio file\n",
        "\n",
        "# Perform ASR on the audio file\n",
        "with sr.AudioFile(audio_file) as source:\n",
        "    audio_data = recognizer.record(source)  # Record the audio file\n",
        "\n",
        "# Convert audio to text (Japanese)\n",
        "try:\n",
        "    japanese_text = recognizer.recognize_google(audio_data, language=\"ja-JP\")\n",
        "    print(\"Japanese Text:\", japanese_text)\n",
        "except sr.UnknownValueError:\n",
        "    print(\"Google Speech Recognition could not understand the audio\")\n",
        "except sr.RequestError as e:\n",
        "    print(\"Could not request results from Google Speech Recognition service; {0}\".format(e))"
      ],
      "metadata": {
        "colab": {
          "base_uri": "https://localhost:8080/"
        },
        "id": "V_zvEobl04ZI",
        "outputId": "4e636a7c-fc22-4f4b-8c64-4931cf430348"
      },
      "execution_count": null,
      "outputs": [
        {
          "output_type": "stream",
          "name": "stdout",
          "text": [
            "Japanese Text: だから エレクトロンでございます あ もしもし先ほど電話させていただいたメタニクス 代理の進藤と申しますけども世話になっております はい お世話になっております ちょっと先ほどの件なんですが 担当者が えっと 萩尾様のメールアドレスをもう知っている そうなんですけどメールでご案内させていただくことって可能ですか ねこちらからメールアドレスの開示ができないようで してあ 担当のものがもう 萩尾様のメールアドレスを知っているので ちょっとメールであのご案内 送らせていただいてもよろしいですか そうしましたら あの 直接やりとりいただければと思いますが はいあわかりました ありがとうございますはい 恐れ入ります よろしくお願いいたします はい ありがとうございます 失礼いたします はい 失礼いたします\n"
          ]
        }
      ]
    },
    {
      "cell_type": "code",
      "source": [
        "pip install googletrans==4.0.0-rc1\n"
      ],
      "metadata": {
        "colab": {
          "base_uri": "https://localhost:8080/",
          "height": 929
        },
        "id": "iHsKyV6U2GVC",
        "outputId": "de6ff24c-5167-4878-e4a5-51c8b04ed2ef"
      },
      "execution_count": null,
      "outputs": [
        {
          "output_type": "stream",
          "name": "stdout",
          "text": [
            "Collecting googletrans==4.0.0-rc1\n",
            "  Downloading googletrans-4.0.0rc1.tar.gz (20 kB)\n",
            "  Preparing metadata (setup.py) ... \u001b[?25l\u001b[?25hdone\n",
            "Collecting httpx==0.13.3 (from googletrans==4.0.0-rc1)\n",
            "  Downloading httpx-0.13.3-py3-none-any.whl (55 kB)\n",
            "\u001b[2K     \u001b[90m━━━━━━━━━━━━━━━━━━━━━━━━━━━━━━━━━━━━━━━━\u001b[0m \u001b[32m55.1/55.1 kB\u001b[0m \u001b[31m3.7 MB/s\u001b[0m eta \u001b[36m0:00:00\u001b[0m\n",
            "\u001b[?25hRequirement already satisfied: certifi in /usr/local/lib/python3.10/dist-packages (from httpx==0.13.3->googletrans==4.0.0-rc1) (2024.2.2)\n",
            "Collecting hstspreload (from httpx==0.13.3->googletrans==4.0.0-rc1)\n",
            "  Downloading hstspreload-2024.4.1-py3-none-any.whl (1.1 MB)\n",
            "\u001b[2K     \u001b[90m━━━━━━━━━━━━━━━━━━━━━━━━━━━━━━━━━━━━━━━━\u001b[0m \u001b[32m1.1/1.1 MB\u001b[0m \u001b[31m14.8 MB/s\u001b[0m eta \u001b[36m0:00:00\u001b[0m\n",
            "\u001b[?25hRequirement already satisfied: sniffio in /usr/local/lib/python3.10/dist-packages (from httpx==0.13.3->googletrans==4.0.0-rc1) (1.3.1)\n",
            "Collecting chardet==3.* (from httpx==0.13.3->googletrans==4.0.0-rc1)\n",
            "  Downloading chardet-3.0.4-py2.py3-none-any.whl (133 kB)\n",
            "\u001b[2K     \u001b[90m━━━━━━━━━━━━━━━━━━━━━━━━━━━━━━━━━━━━━━━━\u001b[0m \u001b[32m133.4/133.4 kB\u001b[0m \u001b[31m14.1 MB/s\u001b[0m eta \u001b[36m0:00:00\u001b[0m\n",
            "\u001b[?25hCollecting idna==2.* (from httpx==0.13.3->googletrans==4.0.0-rc1)\n",
            "  Downloading idna-2.10-py2.py3-none-any.whl (58 kB)\n",
            "\u001b[2K     \u001b[90m━━━━━━━━━━━━━━━━━━━━━━━━━━━━━━━━━━━━━━━━\u001b[0m \u001b[32m58.8/58.8 kB\u001b[0m \u001b[31m8.5 MB/s\u001b[0m eta \u001b[36m0:00:00\u001b[0m\n",
            "\u001b[?25hCollecting rfc3986<2,>=1.3 (from httpx==0.13.3->googletrans==4.0.0-rc1)\n",
            "  Downloading rfc3986-1.5.0-py2.py3-none-any.whl (31 kB)\n",
            "Collecting httpcore==0.9.* (from httpx==0.13.3->googletrans==4.0.0-rc1)\n",
            "  Downloading httpcore-0.9.1-py3-none-any.whl (42 kB)\n",
            "\u001b[2K     \u001b[90m━━━━━━━━━━━━━━━━━━━━━━━━━━━━━━━━━━━━━━━━\u001b[0m \u001b[32m42.6/42.6 kB\u001b[0m \u001b[31m5.4 MB/s\u001b[0m eta \u001b[36m0:00:00\u001b[0m\n",
            "\u001b[?25hCollecting h11<0.10,>=0.8 (from httpcore==0.9.*->httpx==0.13.3->googletrans==4.0.0-rc1)\n",
            "  Downloading h11-0.9.0-py2.py3-none-any.whl (53 kB)\n",
            "\u001b[2K     \u001b[90m━━━━━━━━━━━━━━━━━━━━━━━━━━━━━━━━━━━━━━━━\u001b[0m \u001b[32m53.6/53.6 kB\u001b[0m \u001b[31m8.2 MB/s\u001b[0m eta \u001b[36m0:00:00\u001b[0m\n",
            "\u001b[?25hCollecting h2==3.* (from httpcore==0.9.*->httpx==0.13.3->googletrans==4.0.0-rc1)\n",
            "  Downloading h2-3.2.0-py2.py3-none-any.whl (65 kB)\n",
            "\u001b[2K     \u001b[90m━━━━━━━━━━━━━━━━━━━━━━━━━━━━━━━━━━━━━━━━\u001b[0m \u001b[32m65.0/65.0 kB\u001b[0m \u001b[31m9.9 MB/s\u001b[0m eta \u001b[36m0:00:00\u001b[0m\n",
            "\u001b[?25hCollecting hyperframe<6,>=5.2.0 (from h2==3.*->httpcore==0.9.*->httpx==0.13.3->googletrans==4.0.0-rc1)\n",
            "  Downloading hyperframe-5.2.0-py2.py3-none-any.whl (12 kB)\n",
            "Collecting hpack<4,>=3.0 (from h2==3.*->httpcore==0.9.*->httpx==0.13.3->googletrans==4.0.0-rc1)\n",
            "  Downloading hpack-3.0.0-py2.py3-none-any.whl (38 kB)\n",
            "Building wheels for collected packages: googletrans\n",
            "  Building wheel for googletrans (setup.py) ... \u001b[?25l\u001b[?25hdone\n",
            "  Created wheel for googletrans: filename=googletrans-4.0.0rc1-py3-none-any.whl size=17395 sha256=42ea26f5ce7bb050c41c59dfbb739ca0315d7dee5fe6fdbc429fb98e3570cadb\n",
            "  Stored in directory: /root/.cache/pip/wheels/c0/59/9f/7372f0cf70160fe61b528532e1a7c8498c4becd6bcffb022de\n",
            "Successfully built googletrans\n",
            "Installing collected packages: rfc3986, hyperframe, hpack, h11, chardet, idna, hstspreload, h2, httpcore, httpx, googletrans\n",
            "  Attempting uninstall: chardet\n",
            "    Found existing installation: chardet 5.2.0\n",
            "    Uninstalling chardet-5.2.0:\n",
            "      Successfully uninstalled chardet-5.2.0\n",
            "  Attempting uninstall: idna\n",
            "    Found existing installation: idna 3.6\n",
            "    Uninstalling idna-3.6:\n",
            "      Successfully uninstalled idna-3.6\n",
            "Successfully installed chardet-3.0.4 googletrans-4.0.0rc1 h11-0.9.0 h2-3.2.0 hpack-3.0.0 hstspreload-2024.4.1 httpcore-0.9.1 httpx-0.13.3 hyperframe-5.2.0 idna-2.10 rfc3986-1.5.0\n"
          ]
        },
        {
          "output_type": "display_data",
          "data": {
            "application/vnd.colab-display-data+json": {
              "pip_warning": {
                "packages": [
                  "chardet",
                  "idna"
                ]
              },
              "id": "0dc5fdb3a5834126a544ccb0b91c90bd"
            }
          },
          "metadata": {}
        }
      ]
    },
    {
      "cell_type": "code",
      "source": [
        "from googletrans import Translator\n",
        "\n",
        "# Initialize translator\n",
        "translator = Translator()\n",
        "\n",
        "# Japanese text to be translated\n",
        "japanese_text = (\"だから エレクトロンでございます あ もしもし先ほど電話させていただいたメタニクス 代理の進藤と申しますけども世話になっております はい お世話になっております ちょっと先ほどの件なんですが 担当者が えっと 萩尾様のメールアドレスをもう知っている そうなんですけどメールでご案内させていただくことって可能ですか ねこちらからメールアドレスの開示ができないようで してあ 担当のものがもう 萩尾様のメールアドレスを知っているので ちょっとメールであのご案内 送らせていただいてもよろしいですか そうしましたら あの 直接やりとりいただければと思いますが はいあわかりました ありがとうございますはい 恐れ入ります よろしくお願いいたします はい ありがとうございます 失礼いたします はい 失礼いたします\")\n",
        "\n",
        "# Translate Japanese text to English\n",
        "translated_text = translator.translate(japanese_text, src=\"ja\", dest=\"en\")\n",
        "\n",
        "# Print translated text\n",
        "print(\"Translated Text:\", translated_text.text)"
      ],
      "metadata": {
        "colab": {
          "base_uri": "https://localhost:8080/"
        },
        "id": "mKQAr-pc04b6",
        "outputId": "e460fca8-5ea3-4929-c4df-74e6934e3f4b"
      },
      "execution_count": null,
      "outputs": [
        {
          "output_type": "stream",
          "name": "stdout",
          "text": [
            "Translated Text: That's why it's Electron. I'm sure it's Shindo, a metanics agency that I just called, but I'm taking care of me. I'm taking care of me.You already know the address, but is it possible to guide you by e -mail? It seems that you can't disclose your email address here, and the person in charge already knows Hagio's email address.So, would you like to send you a little email? I hope you can do that directly, but I understand Thank you very much Thank you Yes.Yes I'm sorry\n"
          ]
        }
      ]
    },
    {
      "cell_type": "code",
      "source": [
        "pip install gtts"
      ],
      "metadata": {
        "colab": {
          "base_uri": "https://localhost:8080/"
        },
        "id": "wvkFJNec2bm5",
        "outputId": "100ba77a-ff7a-4602-c925-953194182349"
      },
      "execution_count": null,
      "outputs": [
        {
          "output_type": "stream",
          "name": "stdout",
          "text": [
            "Collecting gtts\n",
            "  Downloading gTTS-2.5.1-py3-none-any.whl (29 kB)\n",
            "Requirement already satisfied: requests<3,>=2.27 in /usr/local/lib/python3.10/dist-packages (from gtts) (2.31.0)\n",
            "Requirement already satisfied: click<8.2,>=7.1 in /usr/local/lib/python3.10/dist-packages (from gtts) (8.1.7)\n",
            "Requirement already satisfied: charset-normalizer<4,>=2 in /usr/local/lib/python3.10/dist-packages (from requests<3,>=2.27->gtts) (3.3.2)\n",
            "Requirement already satisfied: idna<4,>=2.5 in /usr/local/lib/python3.10/dist-packages (from requests<3,>=2.27->gtts) (2.10)\n",
            "Requirement already satisfied: urllib3<3,>=1.21.1 in /usr/local/lib/python3.10/dist-packages (from requests<3,>=2.27->gtts) (2.0.7)\n",
            "Requirement already satisfied: certifi>=2017.4.17 in /usr/local/lib/python3.10/dist-packages (from requests<3,>=2.27->gtts) (2024.2.2)\n",
            "Installing collected packages: gtts\n",
            "Successfully installed gtts-2.5.1\n"
          ]
        }
      ]
    },
    {
      "cell_type": "code",
      "source": [
        "from gtts import gTTS\n",
        "import os\n",
        "\n",
        "# Translated text\n",
        "english_text = \"That's why it's Electron. I'm sure it's Shindo, a metanics agency that I just called, but I'm taking care of me. I'm taking care of me.You already know the address, but is it possible to guide you by e-mail? It seems that you can't disclose your email address here, and the person in charge already knows Hagio's email address.So, would you like to send you a little email? I hope you can do that directly, but I understand Thank you very much Thank you Yes.Yes I'm sorry\"\n",
        "\n",
        "# Initialize gTTS\n",
        "tts = gTTS(text=english_text, lang='en', slow=False)\n",
        "\n",
        "# Save the audio file\n",
        "tts.save(\"english_audio2.mp3\")\n",
        "\n",
        "# Play the audio file (Optional)\n",
        "os.system(\"mpg321 english_audio.mp3\")"
      ],
      "metadata": {
        "colab": {
          "base_uri": "https://localhost:8080/"
        },
        "id": "dJOpuUF_04ep",
        "outputId": "deb08906-e5c5-4e0b-abd0-00954b9b974a"
      },
      "execution_count": null,
      "outputs": [
        {
          "output_type": "execute_result",
          "data": {
            "text/plain": [
              "32512"
            ]
          },
          "metadata": {},
          "execution_count": 4
        }
      ]
    },
    {
      "cell_type": "markdown",
      "source": [
        "## OPTIMIZING"
      ],
      "metadata": {
        "id": "0Bwfroem1Xvn"
      }
    },
    {
      "cell_type": "code",
      "source": [
        "import nltk\n",
        "nltk.download('punkt')"
      ],
      "metadata": {
        "colab": {
          "base_uri": "https://localhost:8080/"
        },
        "id": "xxKA8Sos3mO2",
        "outputId": "16fc3916-280d-426a-8458-4f823ccf519f"
      },
      "execution_count": null,
      "outputs": [
        {
          "output_type": "stream",
          "name": "stderr",
          "text": [
            "[nltk_data] Downloading package punkt to /root/nltk_data...\n",
            "[nltk_data]   Unzipping tokenizers/punkt.zip.\n"
          ]
        },
        {
          "output_type": "execute_result",
          "data": {
            "text/plain": [
              "True"
            ]
          },
          "metadata": {},
          "execution_count": 6
        }
      ]
    },
    {
      "cell_type": "code",
      "source": [
        "# Original Japanese text (without extra list)\n",
        "original_japanese_text = [\"だから エレクトロンでございます あ もしもし先ほど電話させていただいたメタニクス 代理の進藤と申しますけども世話になっております はい お世話になっております ちょっと先ほどの件なんですが 担当者が えっと 萩尾様のメールアドレスをもう知っている そうなんですけどメールでご案内させていただくことって可能ですか ねこちらからメールアドレスの開示ができないようで してあ 担当のものがもう 萩尾様のメールアドレスを知っているので ちょっとメールであのご案内 送らせていただいてもよろしいですか そうしましたら あの 直接やりとりいただければと思いますが はいあわかりました ありがとうございますはい 恐れ入ります よろしくお願いいたします はい ありがとうございます 失礼いたします はい 失礼いたします\"]\n",
        "\n",
        "# Translated English text\n",
        "translated_text = [\"So, it's Electron. Hello. This is Sendou, a substitute for Metanix. Thank you for your help. Yes, thank you for your help. Well, about the matter earlier, the person in charge, um, already knows Mr. Hagio's email address. Is it possible to guide you by email? It seems that we cannot disclose the email address from here, so the person in charge already knows Mr. Hagio's email address, so can I send you an email to guide you a little? If you do, I think it's okay to have direct communication. Yes, I understand. Thank you. Yes, I apologize. Thank you. Yes, I apologize.\"]\n",
        "\n",
        "# Tokenize machine-generated translation\n",
        "translated_tokenized = nltk.word_tokenize(translated_text[0])\n",
        "\n",
        "# Tokenize reference translations\n",
        "original_tokenized = [nltk.word_tokenize(sent) for sent in original_japanese_text]\n",
        "\n",
        "# Calculate BLEU score\n",
        "bleu_score = corpus_bleu([original_tokenized], [translated_tokenized])\n",
        "print(\"BLEU Score:\", bleu_score)\n"
      ],
      "metadata": {
        "colab": {
          "base_uri": "https://localhost:8080/"
        },
        "id": "V6FSZxHo3ex5",
        "outputId": "3826a398-ee4c-431b-8d98-791c5109f380"
      },
      "execution_count": null,
      "outputs": [
        {
          "output_type": "stream",
          "name": "stdout",
          "text": [
            "BLEU Score: 0\n"
          ]
        }
      ]
    },
    {
      "cell_type": "code",
      "source": [
        "import speech_recognition as sr\n",
        "from googletrans import Translator\n",
        "\n",
        "# Step 1: Transcribe the audio file into Japanese text\n",
        "def transcribe_audio(audio_file):\n",
        "    recognizer = sr.Recognizer()\n",
        "    with sr.AudioFile(audio_file) as source:\n",
        "        audio_data = recognizer.record(source)\n",
        "    try:\n",
        "        japanese_text = recognizer.recognize_google(audio_data, language=\"ja-JP\")\n",
        "        return japanese_text\n",
        "    except sr.UnknownValueError:\n",
        "        print(\"Google Speech Recognition could not understand the audio\")\n",
        "    except sr.RequestError as e:\n",
        "        print(f\"Could not request results from Google Speech Recognition service; {e}\")\n",
        "\n",
        "# Step 2: Translate Japanese text into English\n",
        "def translate_japanese_to_english(japanese_text):\n",
        "    translator = Translator()\n",
        "    translated_text = translator.translate(japanese_text, src=\"ja\", dest=\"en\")\n",
        "    return translated_text.text\n",
        "\n",
        "# Step 3: Manually evaluate the accuracy of the translation\n",
        "def evaluate_translation(original_japanese_text, translated_english_text):\n",
        "    print(\"Original Japanese Text:\")\n",
        "    print(original_japanese_text)\n",
        "    print(\"\\nTranslated English Text:\")\n",
        "    print(translated_english_text)\n",
        "\n",
        "# Audio file path\n",
        "audio_file_path = \"/content/jp.wav\"  # Replace with the path to your audio file\n",
        "\n",
        "# Step 1: Transcribe audio into Japanese text\n",
        "japanese_text = transcribe_audio(audio_file_path)\n",
        "\n",
        "# Step 2: Translate Japanese text into English\n",
        "translated_english_text = translate_japanese_to_english(japanese_text)\n",
        "\n",
        "# Step 3: Manually evaluate translation accuracy\n",
        "# Provide reference translation or manually evaluate translation quality\n",
        "\n",
        "# Assuming you have reference translation available, you can compare it with translated text\n",
        "reference_translation = \"Your reference translation goes here\"\n",
        "\n",
        "# Or, manually evaluate the translation\n",
        "evaluate_translation(japanese_text, translated_english_text)\n"
      ],
      "metadata": {
        "colab": {
          "base_uri": "https://localhost:8080/"
        },
        "id": "n3cGJM9g4Q9W",
        "outputId": "43bbe0c0-053c-4451-fd45-e88cd99a1ba3"
      },
      "execution_count": null,
      "outputs": [
        {
          "output_type": "stream",
          "name": "stdout",
          "text": [
            "Original Japanese Text:\n",
            "だから エレクトロンでございます あ もしもし先ほど電話させていただいたメタニクス 代理の進藤と申しますけども世話になっております はい お世話になっております ちょっと先ほどの件なんですが 担当者が えっと 萩尾様のメールアドレスをもう知っている そうなんですけどメールでご案内させていただくことって可能ですか ねこちらからメールアドレスの開示ができないようで してあ 担当のものがもう 萩尾様のメールアドレスを知っているので ちょっとメールであのご案内 送らせていただいてもよろしいですか そうしましたら あの 直接やりとりいただければと思いますが はいあわかりました ありがとうございますはい 恐れ入ります よろしくお願いいたします はい ありがとうございます 失礼いたします はい 失礼いたします\n",
            "\n",
            "Translated English Text:\n",
            "That's why it's Electron. I'm sure it's Shindo, a metanics agency that I just called, but I'm taking care of me. I'm taking care of me.You already know the address, but is it possible to guide you by e -mail? It seems that you can't disclose your email address here, and the person in charge already knows Hagio's email address.So, would you like to send you a little email? I hope you can do that directly, but I understand Thank you very much Thank you Yes.Yes I'm sorry\n"
          ]
        }
      ]
    },
    {
      "cell_type": "code",
      "source": [
        "import speech_recognition as sr\n",
        "from googletrans import Translator\n",
        "\n",
        "# Step 1: Transcribe the audio file into Japanese text\n",
        "def transcribe_audio(audio_file):\n",
        "    recognizer = sr.Recognizer()\n",
        "    with sr.AudioFile(audio_file) as source:\n",
        "        audio_data = recognizer.record(source)\n",
        "    try:\n",
        "        japanese_text = recognizer.recognize_google(audio_data, language=\"ja-JP\")\n",
        "        return japanese_text\n",
        "    except sr.UnknownValueError:\n",
        "        print(\"Google Speech Recognition could not understand the audio\")\n",
        "    except sr.RequestError as e:\n",
        "        print(f\"Could not request results from Google Speech Recognition service; {e}\")\n",
        "\n",
        "# Step 2: Translate Japanese text into English\n",
        "def translate_japanese_to_english(japanese_text):\n",
        "    translator = Translator()\n",
        "    translated_text = translator.translate(japanese_text, src=\"ja\", dest=\"en\")\n",
        "    return translated_text.text\n",
        "\n",
        "# Step 3: Get translation from Google Translate\n",
        "def translate_using_google_translate(japanese_text):\n",
        "    translator = Translator()\n",
        "    google_translated_text = translator.translate(japanese_text, src=\"ja\", dest=\"en\").text\n",
        "    return google_translated_text\n",
        "\n",
        "# Step 4: Manually evaluate the accuracy of the translation\n",
        "def evaluate_translation(original_japanese_text, translated_english_text, google_translated_text):\n",
        "    print(\"Original Japanese Text:\")\n",
        "    print(original_japanese_text)\n",
        "    print(\"\\nTranslated English Text:\")\n",
        "    print(translated_english_text)\n",
        "    print(\"\\nGoogle Translate:\")\n",
        "    print(google_translated_text)\n",
        "\n",
        "# Audio file path\n",
        "audio_file_path = \"/content/jp.wav\"  # Replace with the path to your audio file\n",
        "\n",
        "# Step 1: Transcribe audio into Japanese text\n",
        "japanese_text = transcribe_audio(audio_file_path)\n",
        "\n",
        "# Step 2: Translate Japanese text into English\n",
        "translated_english_text = translate_japanese_to_english(japanese_text)\n",
        "\n",
        "# Step 3: Get translation from Google Translate\n",
        "google_translated_text = translate_using_google_translate(japanese_text)\n",
        "\n",
        "# Step 4: Manually evaluate translation accuracy\n",
        "evaluate_translation(japanese_text, translated_english_text, google_translated_text)\n"
      ],
      "metadata": {
        "colab": {
          "base_uri": "https://localhost:8080/"
        },
        "id": "6auUXyP46pRC",
        "outputId": "62dcb617-5766-4a64-b3b6-3bce7ba2e825"
      },
      "execution_count": null,
      "outputs": [
        {
          "output_type": "stream",
          "name": "stdout",
          "text": [
            "Original Japanese Text:\n",
            "だから エレクトロンでございます あ もしもし先ほど電話させていただいたメタニクス 代理の進藤と申しますけども世話になっております はい お世話になっております ちょっと先ほどの件なんですが 担当者が えっと 萩尾様のメールアドレスをもう知っている そうなんですけどメールでご案内させていただくことって可能ですか ねこちらからメールアドレスの開示ができないようで してあ 担当のものがもう 萩尾様のメールアドレスを知っているので ちょっとメールであのご案内 送らせていただいてもよろしいですか そうしましたら あの 直接やりとりいただければと思いますが はいあわかりました ありがとうございますはい 恐れ入ります よろしくお願いいたします はい ありがとうございます 失礼いたします はい 失礼いたします\n",
            "\n",
            "Translated English Text:\n",
            "That's why it's Electron. I'm sure it's Shindo, a metanics agency that I just called, but I'm taking care of me. I'm taking care of me.You already know the address, but is it possible to guide you by e -mail? It seems that you can't disclose your email address here, and the person in charge already knows Hagio's email address.So, would you like to send you a little email? I hope you can do that directly, but I understand Thank you very much Thank you Yes.Yes I'm sorry\n",
            "\n",
            "Google Translate:\n",
            "That's why it's Electron. I'm sure it's Shindo, a metanics agency that I just called, but I'm taking care of me. I'm taking care of me.You already know the address, but is it possible to guide you by e -mail? It seems that you can't disclose your email address here, and the person in charge already knows Hagio's email address.So, would you like to send you a little email? I hope you can do that directly, but I understand Thank you very much Thank you Yes.Yes I'm sorry\n"
          ]
        }
      ]
    },
    {
      "cell_type": "code",
      "source": [
        "pip install deep-translator"
      ],
      "metadata": {
        "colab": {
          "base_uri": "https://localhost:8080/"
        },
        "id": "mtmLBGanAYtQ",
        "outputId": "35b6fa27-3dd2-4991-fb42-5907ff30ebfa"
      },
      "execution_count": null,
      "outputs": [
        {
          "output_type": "stream",
          "name": "stdout",
          "text": [
            "Collecting deep-translator\n",
            "  Downloading deep_translator-1.11.4-py3-none-any.whl (42 kB)\n",
            "\u001b[?25l     \u001b[90m━━━━━━━━━━━━━━━━━━━━━━━━━━━━━━━━━━━━━━━━\u001b[0m \u001b[32m0.0/42.3 kB\u001b[0m \u001b[31m?\u001b[0m eta \u001b[36m-:--:--\u001b[0m\r\u001b[2K     \u001b[90m━━━━━━━━━━━━━━━━━━━━━━━━━━━━━━━━━━━━━━━━\u001b[0m \u001b[32m42.3/42.3 kB\u001b[0m \u001b[31m1.8 MB/s\u001b[0m eta \u001b[36m0:00:00\u001b[0m\n",
            "\u001b[?25hRequirement already satisfied: beautifulsoup4<5.0.0,>=4.9.1 in /usr/local/lib/python3.10/dist-packages (from deep-translator) (4.12.3)\n",
            "Requirement already satisfied: requests<3.0.0,>=2.23.0 in /usr/local/lib/python3.10/dist-packages (from deep-translator) (2.31.0)\n",
            "Requirement already satisfied: soupsieve>1.2 in /usr/local/lib/python3.10/dist-packages (from beautifulsoup4<5.0.0,>=4.9.1->deep-translator) (2.5)\n",
            "Requirement already satisfied: charset-normalizer<4,>=2 in /usr/local/lib/python3.10/dist-packages (from requests<3.0.0,>=2.23.0->deep-translator) (3.3.2)\n",
            "Requirement already satisfied: idna<4,>=2.5 in /usr/local/lib/python3.10/dist-packages (from requests<3.0.0,>=2.23.0->deep-translator) (2.10)\n",
            "Requirement already satisfied: urllib3<3,>=1.21.1 in /usr/local/lib/python3.10/dist-packages (from requests<3.0.0,>=2.23.0->deep-translator) (2.0.7)\n",
            "Requirement already satisfied: certifi>=2017.4.17 in /usr/local/lib/python3.10/dist-packages (from requests<3.0.0,>=2.23.0->deep-translator) (2024.2.2)\n",
            "Installing collected packages: deep-translator\n",
            "Successfully installed deep-translator-1.11.4\n"
          ]
        }
      ]
    },
    {
      "cell_type": "code",
      "source": [
        "pip install deepl"
      ],
      "metadata": {
        "colab": {
          "base_uri": "https://localhost:8080/"
        },
        "id": "xEiABRgmAyJw",
        "outputId": "128db9bf-db4f-4612-bcfd-bfa2d40f4ea0"
      },
      "execution_count": null,
      "outputs": [
        {
          "output_type": "stream",
          "name": "stdout",
          "text": [
            "Collecting deepl\n",
            "  Downloading deepl-1.17.0-py3-none-any.whl (35 kB)\n",
            "Requirement already satisfied: requests<3,>=2 in /usr/local/lib/python3.10/dist-packages (from deepl) (2.31.0)\n",
            "Requirement already satisfied: charset-normalizer<4,>=2 in /usr/local/lib/python3.10/dist-packages (from requests<3,>=2->deepl) (3.3.2)\n",
            "Requirement already satisfied: idna<4,>=2.5 in /usr/local/lib/python3.10/dist-packages (from requests<3,>=2->deepl) (2.10)\n",
            "Requirement already satisfied: urllib3<3,>=1.21.1 in /usr/local/lib/python3.10/dist-packages (from requests<3,>=2->deepl) (2.0.7)\n",
            "Requirement already satisfied: certifi>=2017.4.17 in /usr/local/lib/python3.10/dist-packages (from requests<3,>=2->deepl) (2024.2.2)\n",
            "Installing collected packages: deepl\n",
            "Successfully installed deepl-1.17.0\n"
          ]
        }
      ]
    },
    {
      "cell_type": "code",
      "source": [
        "pip install deep-translator"
      ],
      "metadata": {
        "colab": {
          "base_uri": "https://localhost:8080/"
        },
        "id": "GiX9hO_EBits",
        "outputId": "8ec488b9-a5f8-4e54-a5f4-285afe33b66e"
      },
      "execution_count": null,
      "outputs": [
        {
          "output_type": "stream",
          "name": "stdout",
          "text": [
            "Requirement already satisfied: deep-translator in /usr/local/lib/python3.10/dist-packages (1.11.4)\n",
            "Requirement already satisfied: beautifulsoup4<5.0.0,>=4.9.1 in /usr/local/lib/python3.10/dist-packages (from deep-translator) (4.12.3)\n",
            "Requirement already satisfied: requests<3.0.0,>=2.23.0 in /usr/local/lib/python3.10/dist-packages (from deep-translator) (2.31.0)\n",
            "Requirement already satisfied: soupsieve>1.2 in /usr/local/lib/python3.10/dist-packages (from beautifulsoup4<5.0.0,>=4.9.1->deep-translator) (2.5)\n",
            "Requirement already satisfied: charset-normalizer<4,>=2 in /usr/local/lib/python3.10/dist-packages (from requests<3.0.0,>=2.23.0->deep-translator) (3.3.2)\n",
            "Requirement already satisfied: idna<4,>=2.5 in /usr/local/lib/python3.10/dist-packages (from requests<3.0.0,>=2.23.0->deep-translator) (2.10)\n",
            "Requirement already satisfied: urllib3<3,>=1.21.1 in /usr/local/lib/python3.10/dist-packages (from requests<3.0.0,>=2.23.0->deep-translator) (2.0.7)\n",
            "Requirement already satisfied: certifi>=2017.4.17 in /usr/local/lib/python3.10/dist-packages (from requests<3.0.0,>=2.23.0->deep-translator) (2024.2.2)\n"
          ]
        }
      ]
    },
    {
      "cell_type": "markdown",
      "source": [
        "# Final"
      ],
      "metadata": {
        "id": "DY6y-jAKCRVj"
      }
    },
    {
      "cell_type": "code",
      "source": [
        "from deep_translator import GoogleTranslator\n",
        "\n",
        "# Translate text from Japanese to English\n",
        "translated_text = GoogleTranslator(source='ja', target='en').translate(\"だから エレクトロンでございます あ もしもし先ほど電話させていただいたメタニクス 代理の進藤と申しますけども世話になっております はい お世話になっております ちょっと先ほどの件なんですが 担当者が えっと 萩尾様のメールアドレスをもう知っている そうなんですけどメールでご案内させていただくことって可能ですか ねこちらからメールアドレスの開示ができないようで してあ 担当のものがもう 萩尾様のメールアドレスを知っているので ちょっとメールであのご案内 送らせていただいてもよろしいですか そうしましたら あの 直接やりとりいただければと思いますが はいあわかりました ありがとうございますはい 恐れ入ります よろしくお願いいたします はい ありがとうございます 失礼いたします はい 失礼いたします\")\n",
        "\n",
        "# Print translated text\n",
        "print(\"Translated Text:\", translated_text)\n"
      ],
      "metadata": {
        "colab": {
          "base_uri": "https://localhost:8080/"
        },
        "id": "pW4qIX5vBnMQ",
        "outputId": "faa3d903-c723-4ae0-bb55-b3aff0e7ac33"
      },
      "execution_count": null,
      "outputs": [
        {
          "output_type": "stream",
          "name": "stdout",
          "text": [
            "Translated Text: So, I'm Electron.Hello, I'm Shindo, and I'm Metanics' representative, who I called earlier, and I'm indebted to you.Yes, thank you very much for your help.As for the matter I mentioned earlier, the person in charge said, uh, Mr. Hagio's email. I see, but is it possible for me to send you an email address? It seems like we can't disclose your email address. Well, the person in charge already knows Mr. Hagio's email address. So, would you mind if I send you the information via email? If so, I would appreciate it if you could communicate with me directly. Yes, I understand. Thank you. Yes, I'm sorry. Thank you very much. Yes, thank you. Yes, excuse me\n"
          ]
        }
      ]
    },
    {
      "cell_type": "code",
      "source": [],
      "metadata": {
        "id": "-BMR-kuaBmXs"
      },
      "execution_count": null,
      "outputs": []
    },
    {
      "cell_type": "code",
      "source": [],
      "metadata": {
        "id": "MSDV6nooBU1n"
      },
      "execution_count": null,
      "outputs": []
    }
  ]
}